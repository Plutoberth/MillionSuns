{
 "cells": [
  {
   "cell_type": "code",
   "execution_count": null,
   "outputs": [],
   "source": [
    "import pandas as pd\n",
    "from hourly_simulation.simulation import simulate_use\n",
    "from hourly_simulation import strategies\n",
    "\n",
    "demand: pd.DataFrame = pd.DataFrame({\"HourOfYear\": [i for i in range(80,104)],\n",
    "                                     \"2018\": [10] * 24})\n",
    "single_panel_production: pd.DataFrame = pd.DataFrame({\"HourOfYear\": [i for i in range(80, 104)],\n",
    "                                                      \"SolarProduction\": [9] * 24})\n",
    "simulation_results = {}\n",
    "for num_solar_panels in range(20):\n",
    "    for battery_storage in range(50):\n",
    "        simulation_results[(num_solar_panels, battery_storage)] = simulate_use(demand, single_panel_production,\n",
    "                                                                               num_solar_panels,\n",
    "                                                                               battery_storage,\n",
    "                                                                               strategies.greedy_use_strategy,\n",
    "                                                                               2018)\n",
    "df_results = pd.DataFrame(simulation_results)\n",
    "df_results.idxmin().name"
   ],
   "metadata": {
    "collapsed": false,
    "pycharm": {
     "name": "#%%\n",
     "is_executing": true
    }
   }
  }
 ],
 "metadata": {
  "kernelspec": {
   "display_name": "Python 3",
   "language": "python",
   "name": "python3"
  },
  "language_info": {
   "codemirror_mode": {
    "name": "ipython",
    "version": 2
   },
   "file_extension": ".py",
   "mimetype": "text/x-python",
   "name": "python",
   "nbconvert_exporter": "python",
   "pygments_lexer": "ipython2",
   "version": "2.7.6"
  }
 },
 "nbformat": 4,
 "nbformat_minor": 0
}