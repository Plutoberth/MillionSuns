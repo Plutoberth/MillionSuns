{
 "cells": [
  {
   "cell_type": "code",
   "execution_count": 5,
   "outputs": [],
   "source": [
    "from df_objects.df_objects import CostElectricityDf\n",
    "import numpy as np"
   ],
   "metadata": {
    "collapsed": false,
    "pycharm": {
     "name": "#%%\n"
    }
   }
  },
  {
   "cell_type": "markdown",
   "source": [
    "## Updated Prices Generator"
   ],
   "metadata": {
    "collapsed": false,
    "pycharm": {
     "name": "#%% md\n"
    }
   }
  },
  {
   "cell_type": "code",
   "execution_count": 6,
   "outputs": [],
   "source": [
    "added_operative_cost = 0.02 # ils / kwh\n",
    "\n",
    "s_peak = 0.9543 # ils / kwh\n",
    "s_low = 0.1858\n",
    "summer_day = [s_low] * 17 + [s_peak] * 5 + [s_low] * 2\n",
    "w_peak = 0.5939 # ils / kwh\n",
    "w_low = 0.1584\n",
    "winter_day = [w_low] * 17 + [w_peak] * 5 + [w_low] * 2\n",
    "f_peak = 0.1816 # ils / kwh\n",
    "f_low = 0.1519\n",
    "fall_day = [f_low] * 17 + [f_peak] * 5 + [f_low] * 2\n",
    "\n",
    "year = winter_day * (31 + 28) + fall_day * (31 + 30 + 31 + 30) + summer_day * (31 + 31) + fall_day * (30 + 31 + 30) + winter_day * 31\n",
    "year = np.round(np.array(year) + added_operative_cost, 4)\n",
    "\n",
    "import pandas as pd\n",
    "df = pd.DataFrame({CostElectricityDf.HourOfYear : [i for i in range (1, 24 * 365 + 1)], CostElectricityDf.Cost: year})\n",
    "df.to_csv(\"electricity_cost.csv\")"
   ],
   "metadata": {
    "collapsed": false,
    "pycharm": {
     "name": "#%%\n"
    }
   }
  },
  {
   "cell_type": "markdown",
   "source": [
    "## Binary Prices Generator"
   ],
   "metadata": {
    "collapsed": false,
    "pycharm": {
     "name": "#%% md\n"
    }
   }
  },
  {
   "cell_type": "code",
   "execution_count": 12,
   "outputs": [],
   "source": [
    "s_peak = 1\n",
    "s_low = 0\n",
    "\n",
    "summer_day = [s_low] * 17 + [s_peak] * 5 + [s_low] * 2\n",
    "\n",
    "winter_day = [s_low] * 17 + [s_peak] * 5 + [s_low] * 2\n",
    "\n",
    "fall_day = [s_low] * 17 + [s_peak] * 5 + [s_low] * 2\n",
    "\n",
    "year = winter_day * (31 + 28) + fall_day * (31 + 30 + 31 + 30) + summer_day * (31 + 31) + fall_day * (30 + 31 + 30) + winter_day * 31\n",
    "year = np.round(np.array(year), 4)\n",
    "\n",
    "df = pd.DataFrame({CostElectricityDf.HourOfYear : [i for i in range (1, 24 * 365 + 1)], CostElectricityDf.Cost: year})\n",
    "df.to_csv(\"electricity_cost_binary.csv\")"
   ],
   "metadata": {
    "collapsed": false,
    "pycharm": {
     "name": "#%%\n"
    }
   }
  },
  {
   "cell_type": "markdown",
   "source": [
    "## Selling Price Generator"
   ],
   "metadata": {
    "collapsed": false,
    "pycharm": {
     "name": "#%% md\n"
    }
   }
  },
  {
   "cell_type": "code",
   "execution_count": 8,
   "outputs": [],
   "source": [
    "import pandas as pd\n",
    "\n",
    "SELLING_RATIO = 0.8\n",
    "\n",
    "sell_price = pd.read_csv(\"electricity_cost.csv\", index_col=0)\n",
    "sell_price[CostElectricityDf.Cost] =sell_price[CostElectricityDf.Cost] * SELLING_RATIO\n",
    "sell_price.to_csv(\"electricity_sell_income.csv\")"
   ],
   "metadata": {
    "collapsed": false,
    "pycharm": {
     "name": "#%%\n"
    }
   }
  }
 ],
 "metadata": {
  "kernelspec": {
   "display_name": "Python 3",
   "language": "python",
   "name": "python3"
  },
  "language_info": {
   "codemirror_mode": {
    "name": "ipython",
    "version": 2
   },
   "file_extension": ".py",
   "mimetype": "text/x-python",
   "name": "python",
   "nbconvert_exporter": "python",
   "pygments_lexer": "ipython2",
   "version": "2.7.6"
  }
 },
 "nbformat": 4,
 "nbformat_minor": 0
}