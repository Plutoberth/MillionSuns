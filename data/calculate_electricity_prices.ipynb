{
 "cells": [
  {
   "cell_type": "code",
   "execution_count": 1,
   "outputs": [],
   "source": [
    "from df_objects.df_objects import *\n",
    "import numpy as np"
   ],
   "metadata": {
    "collapsed": false,
    "pycharm": {
     "name": "#%%\n"
    }
   }
  },
  {
   "cell_type": "markdown",
   "source": [
    "## Updated Prices Generator"
   ],
   "metadata": {
    "collapsed": false,
    "pycharm": {
     "name": "#%% md\n"
    }
   }
  },
  {
   "cell_type": "code",
   "execution_count": 3,
   "outputs": [],
   "source": [
    "added_operative_cost = 0.02 # ils / kwh\n",
    "\n",
    "s_peak = 0.9543 # ils / kwh\n",
    "s_low = 0.1858\n",
    "summer_day = [s_low] * 17 + [s_peak] * 5 + [s_low] * 2\n",
    "w_peak = 0.5939 # ils / kwh\n",
    "w_low = 0.1584\n",
    "winter_day = [s_low] * 17 + [s_peak] * 5 + [s_low] * 2\n",
    "f_peak = 0.1816 # ils / kwh\n",
    "f_low = 0.1519\n",
    "fall_day = [s_low] * 17 + [s_peak] * 5 + [s_low] * 2\n",
    "\n",
    "year = winter_day * (31 + 28) + fall_day * (31 + 30 + 31 + 30) + summer_day * (31 + 31) + fall_day * (30 + 31 + 30) + winter_day * 31\n",
    "year = np.round(np.array(year) + added_operative_cost, 4)\n",
    "\n",
    "import pandas as pd\n",
    "df = pd.DataFrame({CostElectricityDf.HourOfYear : [i for i in range (1, 24 * 365 + 1)], CostElectricityDf.Cost: year})\n",
    "df.to_csv(\"electricity_cost.csv\")"
   ],
   "metadata": {
    "collapsed": false,
    "pycharm": {
     "name": "#%%\n"
    }
   }
  },
  {
   "cell_type": "markdown",
   "source": [
    "## Old Prices Generator"
   ],
   "metadata": {
    "collapsed": false,
    "pycharm": {
     "name": "#%% md\n"
    }
   }
  },
  {
   "cell_type": "code",
   "execution_count": null,
   "outputs": [],
   "source": [
    "s_peak = 1.0521 # ils / kwh\n",
    "s_low = 0.3287\n",
    "s_base = 0.4774\n",
    "summer_day = [s_low] * 7 + [s_base] * 3 + [s_peak] * 7 + [s_base] * 4 + [s_low] * 3\n",
    "w_peak = 0.9584 # ils / kwh\n",
    "w_low = 0.3563\n",
    "w_base = 0.5797\n",
    "winter_day = [w_low] * 6 + [w_base] * 2 + [w_low] * 8 + [w_peak] * 6 + [w_low] * 2\n",
    "f_peak = 0.4664 # ils / kwh\n",
    "f_low = 0.319\n",
    "f_base = 0.3861\n",
    "fall_day = [f_low] * 6 + [f_peak] * 14 + [f_base] * 2 + [f_low] * 2\n",
    "\n",
    "year = winter_day * (31 + 28) + fall_day * (31 + 30 + 31 + 30) + summer_day * (31 + 31) + fall_day * (30 + 31 + 30) + winter_day * 31\n",
    "\n",
    "import pandas as pd\n",
    "df = pd.DataFrame({CostElectricityDf.HourOfYear : [i for i in range (1, 24 * 365 + 1)], CostElectricityDf.Cost: year})\n",
    "df.to_csv(\"electricity_cost.csv\")"
   ],
   "metadata": {
    "collapsed": false,
    "pycharm": {
     "name": "#%%\n"
    }
   }
  }
 ],
 "metadata": {
  "kernelspec": {
   "display_name": "Python 3",
   "language": "python",
   "name": "python3"
  },
  "language_info": {
   "codemirror_mode": {
    "name": "ipython",
    "version": 2
   },
   "file_extension": ".py",
   "mimetype": "text/x-python",
   "name": "python",
   "nbconvert_exporter": "python",
   "pygments_lexer": "ipython2",
   "version": "2.7.6"
  }
 },
 "nbformat": 4,
 "nbformat_minor": 0
}